{
 "cells": [
  {
   "cell_type": "code",
   "execution_count": null,
   "metadata": {},
   "outputs": [],
   "source": [
    "# Standard modules needed\n",
    "import numpy as np\n",
    "import pandas as pd\n",
    "import datetime as dt\n",
    "from types import SimpleNamespace\n",
    "from scipy import optimize\n",
    "from scipy import interpolate\n",
    "%load_ext autoreload\n",
    "%autoreload 2\n",
    "\n",
    "# Plotting tools\n",
    "%matplotlib inline\n",
    "import matplotlib.pyplot as plt\n",
    "import matplotlib.ticker\n",
    "\n",
    "# User written modules\n",
    "import examq1 as q1\n",
    "import examq2 as q2"
   ]
  },
  {
   "cell_type": "markdown",
   "metadata": {},
   "source": [
    "# Windmill industry in Denmark"
   ]
  },
  {
   "cell_type": "code",
   "execution_count": null,
   "metadata": {},
   "outputs": [],
   "source": [
    "import requests\n",
    "\n",
    "url = \"https://ens.dk/sites/ens.dk/files/Statistik/anlaeg.xlsx\"\n",
    "r = requests.get(url)\n",
    "\n",
    "with open('windmills.xlsx', 'wb') as xls_file:\n",
    "    xls_file.write(r.content)   "
   ]
  },
  {
   "cell_type": "markdown",
   "metadata": {},
   "source": [
    "## Question 1"
   ]
  },
  {
   "cell_type": "markdown",
   "metadata": {},
   "source": [
    "#### 1. Loading and cleaning the data\n",
    "To load the data, I use the user written module examq1."
   ]
  },
  {
   "cell_type": "code",
   "execution_count": null,
   "metadata": {},
   "outputs": [],
   "source": [
    "# Load data and make final adjustments\n",
    "nondec_df = q1.load_windmill_data('IkkeAfmeldte-Existing turbines')\n",
    "nondec_df['decom'] = 0                  # dummy for being decommissioned\n",
    "nondec_df = nondec_df.iloc[:-3,:]       # drop column totals\n",
    "\n",
    "dec_df = q1.load_windmill_data('Afmeldte-Decommissioned')\n",
    "dec_df['decom'] = 1                                         # dummy for being decommissioned\n",
    "dec_df = dec_df.iloc[:-1,:]                                 # drop column totals\n",
    "dec_df['decom_date'] = pd.to_datetime(dec_df.decom_date)    # format decommission date\n",
    "\n",
    "# Concatenate to final dataframe\n",
    "windmill_df = pd.concat([nondec_df, dec_df], join='inner')"
   ]
  },
  {
   "cell_type": "markdown",
   "metadata": {},
   "source": [
    "#### 2. Plot total electricity production 1977-2021"
   ]
  },
  {
   "cell_type": "code",
   "execution_count": null,
   "metadata": {},
   "outputs": [],
   "source": [
    "# Calculate year-by-year total production\n",
    "years = []          # list of years\n",
    "prod_total = []     # list of total production\n",
    "\n",
    "for col in windmill_df.columns:\n",
    "    if 'year' in col:\n",
    "        years.append(int(col[-4:]))\n",
    "        prod_total.append(windmill_df[col].sum()/1_000_000)\n",
    "\n",
    "# Convert to DataFrame \n",
    "windmill_yearly = pd.DataFrame({'year': years, 'prod_totalGWh': prod_total})\n",
    "windmill_yearly.set_index('year', inplace=True)"
   ]
  },
  {
   "cell_type": "code",
   "execution_count": null,
   "metadata": {},
   "outputs": [],
   "source": [
    "# Plot!\n",
    "fig, ax = plt.subplots(figsize=(10,6))\n",
    "ax.plot(windmill_yearly.index, windmill_yearly.prod_totalGWh)\n",
    "\n",
    "ax.set_ylabel(\"GWh\")\n",
    "ax.set_title(\"Total energy production from windmills\")\n",
    "ax.get_yaxis().set_major_formatter(\n",
    "    matplotlib.ticker.FuncFormatter(lambda x, p: format(int(x), ',')))\n",
    "ax.grid(True);"
   ]
  },
  {
   "cell_type": "markdown",
   "metadata": {},
   "source": [
    "## Question 2"
   ]
  },
  {
   "cell_type": "markdown",
   "metadata": {},
   "source": [
    "#### 1. Average and maximum turbine capacity"
   ]
  },
  {
   "cell_type": "code",
   "execution_count": null,
   "metadata": {},
   "outputs": [],
   "source": [
    "# Variable for connection year\n",
    "windmill_df['connect_y'] = pd.DatetimeIndex(windmill_df.connect_date).year\n",
    "\n",
    "# Calculate capacity by connection year and add to yearly dataframe\n",
    "for year in years:\n",
    "    mean = windmill_df[windmill_df.connect_y == year].capkW.mean()\n",
    "    max = windmill_df[windmill_df.connect_y == year].capkW.max()\n",
    "\n",
    "    windmill_yearly.loc[year, 'mean_capacitykWh']= mean*(365.25*24)/10_000\n",
    "    windmill_yearly.loc[year, 'max_capacitykWh'] = max*(365.25*24)/10_000"
   ]
  },
  {
   "cell_type": "code",
   "execution_count": null,
   "metadata": {},
   "outputs": [],
   "source": [
    "# Plot!\n",
    "fig, ax = plt.subplots(1,1, figsize = (10,6), sharey=True)\n",
    "\n",
    "ax.plot(windmill_yearly.index, windmill_yearly.mean_capacitykWh, label='Mean capacity')\n",
    "ax.plot(windmill_yearly.index, windmill_yearly.max_capacitykWh, label='Maximum capacity')\n",
    "\n",
    "ax.set_ylabel('10.000 kWh')\n",
    "ax.set_xlabel('Date of original connection to grid')\n",
    "ax.set_title('Windmill energy production capacity')\n",
    "ax.get_yaxis().set_major_formatter(\n",
    "    matplotlib.ticker.FuncFormatter(lambda x, p: format(int(x), ',')))\n",
    "ax.legend()\n",
    "ax.grid();\n"
   ]
  },
  {
   "cell_type": "markdown",
   "metadata": {},
   "source": [
    "#### 2. 7 year moving average of average and maximum capacity"
   ]
  },
  {
   "cell_type": "code",
   "execution_count": null,
   "metadata": {},
   "outputs": [],
   "source": [
    "# Calculate 7 year moving average\n",
    "q1.MA7(windmill_yearly, 'mean_capacitykWh')\n",
    "q1.MA7(windmill_yearly, 'max_capacitykWh')"
   ]
  },
  {
   "cell_type": "code",
   "execution_count": null,
   "metadata": {},
   "outputs": [],
   "source": [
    "# Plot!\n",
    "fig, ax = plt.subplots(1,1, figsize = (10,6), sharey=True)\n",
    "\n",
    "ax.plot(windmill_yearly.index, windmill_yearly.MAmean_capacitykWh, label='Mean capacity, 7 year moving average')\n",
    "ax.plot(windmill_yearly.index, windmill_yearly.MAmax_capacitykWh, label='Maximum capacity, 7 year moving average')\n",
    "\n",
    "ax.set_ylabel('10.000 kWh')\n",
    "ax.set_xlabel('Date of original connection to grid')\n",
    "ax.set_title('Windmill energy production capacity')\n",
    "ax.get_yaxis().set_major_formatter(\n",
    "    matplotlib.ticker.FuncFormatter(lambda x, p: format(int(x), ',')))\n",
    "ax.legend()\n",
    "ax.grid();"
   ]
  },
  {
   "cell_type": "markdown",
   "metadata": {},
   "source": [
    "#### 3. Potential capacity"
   ]
  },
  {
   "cell_type": "markdown",
   "metadata": {},
   "source": [
    "In order to filter out decommisioned turbines, I merge the variable for decommission date from `dec_df` on to `windmill_df`."
   ]
  },
  {
   "cell_type": "code",
   "execution_count": null,
   "metadata": {},
   "outputs": [],
   "source": [
    "# join to decommision date from dec_df\n",
    "windmill_df = windmill_df.merge(dec_df[['turbine_id','decom_date']], on='turbine_id', how='outer')"
   ]
  },
  {
   "cell_type": "markdown",
   "metadata": {},
   "source": [
    "Next, I reshape the data to be able to aggregate over production years."
   ]
  },
  {
   "cell_type": "code",
   "execution_count": null,
   "metadata": {},
   "outputs": [],
   "source": [
    "# reshape to long form\n",
    "year_vars = [var for var in windmill_df.columns if 'year' in var]\n",
    "wm_long = pd.melt(windmill_df, id_vars='turbine_id', value_vars = year_vars)\n",
    "wm_long['year'] = wm_long.variable.str[-4:].astype(int)\n",
    "wm_long['productionkWh'] = wm_long.value\n",
    "wm_long = wm_long[['year', 'turbine_id', 'productionkWh']]\n",
    "\n",
    "# merge to data for capacity and active period\n",
    "wm_long  = wm_long.merge(windmill_df[['turbine_id', 'connect_date', 'decom_date', 'capkW','loc_type']],on='turbine_id')"
   ]
  },
  {
   "cell_type": "markdown",
   "metadata": {},
   "source": [
    "In order to adjust for years in whicch turbines are inactive or only active during part of the year, at define a variable `scale` equal to the share of the year, in which the turbine is active. I then calculated scaled capacity `capkWh_scale` as the windmill capacity in kWh weighted by `scale`."
   ]
  },
  {
   "cell_type": "code",
   "execution_count": null,
   "metadata": {},
   "outputs": [],
   "source": [
    "# scale down if activity is limited\n",
    "wm_long['connect_year'] = pd.DatetimeIndex(wm_long.connect_date).year\n",
    "wm_long['decom_year'] = pd.DatetimeIndex(wm_long.decom_date).year\n",
    "\n",
    "wm_long['scale'] = 1\n",
    "wm_long.loc[wm_long.year < wm_long.connect_year,'scale'] = 0 # no contribution before connection\n",
    "wm_long.loc[wm_long.year > wm_long.decom_year,'scale'] = 0 # no contribution after decommission\n",
    "wm_long.loc[wm_long.year == wm_long.connect_year, 'scale'] = (366 - wm_long.connect_date.dt.dayofyear)/365 # scale down if connected during year\n",
    "wm_long.loc[wm_long.year == wm_long.decom_year, 'scale'] = wm_long.decom_date.dt.dayofyear/365 # scale down if disconnected during year\n",
    "wm_long['capkWh_scale'] = wm_long.capkW*wm_long.scale*365.25*24\n",
    "\n",
    "# Calculate total capacity and add to yearly dataframe\n",
    "for year in years:\n",
    "    totalcap = wm_long[wm_long.year == year].capkWh_scale.sum()\n",
    "    windmill_yearly.loc[year, 'total_capacityGWh'] = totalcap/1_000_000 "
   ]
  },
  {
   "cell_type": "code",
   "execution_count": null,
   "metadata": {},
   "outputs": [],
   "source": [
    "# Plot!\n",
    "fig, ax = plt.subplots(figsize=(10,6))\n",
    "ax.plot(windmill_yearly.index, windmill_yearly.prod_totalGWh, label='Actual energy production')\n",
    "ax.set_ylabel(\"GWh\")\n",
    "ax.set_title(\"Total energy production from windmills\")\n",
    "ax.get_yaxis().set_major_formatter(\n",
    "    matplotlib.ticker.FuncFormatter(lambda x, p: format(int(x), ',')))\n",
    "ax.plot(windmill_yearly.index, windmill_yearly.total_capacityGWh, label='Total production capacity')\n",
    "ax.legend()\n",
    "ax.grid();"
   ]
  },
  {
   "cell_type": "markdown",
   "metadata": {},
   "source": [
    "From the figure it is evident that even though the total electricity production by windmills has increased drastically over the past 30 years, we are only producing less than a third of total production capacity. "
   ]
  },
  {
   "cell_type": "markdown",
   "metadata": {},
   "source": [
    "## Question 3"
   ]
  },
  {
   "cell_type": "markdown",
   "metadata": {},
   "source": [
    "Before tackling the question, I drop observations which are presumably faulty or otherwise would blur the picture.\n",
    "\n",
    "Approximately 400 windmills appearantly have a height of less than 1 meter. I assume these are mistakes and drop them from the data. I Also drop windmills that are decommissioned before or during 2021, windmills that produce no energy, and windmills with no data for energy."
   ]
  },
  {
   "cell_type": "markdown",
   "metadata": {},
   "source": [
    "#### 1. Height and productivity"
   ]
  },
  {
   "cell_type": "code",
   "execution_count": null,
   "metadata": {},
   "outputs": [],
   "source": [
    "# Copy of windmill_df \n",
    "windmill_df3  = windmill_df.copy() \n",
    "windmill_df3.heightm = windmill_df3.heightm.astype(float)\n",
    "\n",
    "# Drop very short windmills\n",
    "windmill_df3 = windmill_df3[windmill_df3.heightm>1]\n",
    "\n",
    "# Windmills decommissioned before 2021\n",
    "decom = windmill_df3[pd.DatetimeIndex(windmill_df3.decom_date).year <= 2021]\n",
    "windmill_df3.drop(decom.index, inplace=True)\n",
    "\n",
    "# Windmills with no production\n",
    "noprod = windmill_df3[windmill_df3.year2021 <= 0]\n",
    "windmill_df3.drop(noprod.index, inplace = True)\n",
    "\n",
    "# No data on energy production\n",
    "nodata = windmill_df3[windmill_df3['year2021'].isnull()]\n",
    "windmill_df3.drop(nodata.index, inplace=True)"
   ]
  },
  {
   "cell_type": "markdown",
   "metadata": {},
   "source": [
    "To illustrate the relationship between windmill height and energy production, I use a simple OLS regression. A brief inspection of the data reveals that the relationship between the two is approximately log-linear (appart from a few shorter windmills). I estimate the model\n",
    "$$\n",
    "\\begin{aligned}\n",
    "\\log(production_i) = \\beta_0 + \\beta_1\\log(heightm_i) + \\epsilon\n",
    "\\end{aligned}\n",
    "$$"
   ]
  },
  {
   "cell_type": "code",
   "execution_count": null,
   "metadata": {},
   "outputs": [],
   "source": [
    "lfit_total, betahat_total = q1.ols_predict(np.log(windmill_df3.year2021), np.log(windmill_df3.heightm))\n",
    "print(f\"Estimate of beta_1: {betahat_total[1]:4.2f}\")"
   ]
  },
  {
   "cell_type": "markdown",
   "metadata": {},
   "source": [
    "The estimate of $\\beta_1$ is $\\hat{\\beta_i} = 3.95$, meaning that a height increase og 1 pct. is associated with an increase in yearly energy production of 3.95 pct. The relationship is ullistrated in the plot below."
   ]
  },
  {
   "cell_type": "code",
   "execution_count": null,
   "metadata": {},
   "outputs": [],
   "source": [
    "# Plot!\n",
    "fig, ax = plt.subplots(figsize=(10,6))\n",
    "\n",
    "ax.scatter(x=np.log(windmill_df3.heightm), y=np.log(windmill_df3.year2021), label='Observed energy production')\n",
    "ax.plot(np.log(windmill_df3.heightm), lfit_total, label='Linear fit', color='C1')\n",
    "ax.set_xlabel('Log height in meters')\n",
    "ax.set_ylabel('Log energy production in kWh')\n",
    "ax.legend(loc='lower right')\n",
    "ax.set_title('Windmill height and energy production')\n",
    "ax.grid();"
   ]
  },
  {
   "cell_type": "markdown",
   "metadata": {},
   "source": [
    "#### Height and productivity, on-shore vs. off-shore windmills."
   ]
  },
  {
   "cell_type": "markdown",
   "metadata": {},
   "source": [
    "I continue to perform the same estimation while splitting the sample into on-shore and off-shore turbines. "
   ]
  },
  {
   "cell_type": "code",
   "execution_count": null,
   "metadata": {},
   "outputs": [],
   "source": [
    "# Format location type\n",
    "windmill_df3.loc_type = windmill_df3.loc_type.str.lower()\n",
    "\n",
    "# Estimate\n",
    "lfit_land, betahat_land = q1.ols_predict(np.log(windmill_df3[windmill_df3.loc_type=='land'].year2021),\n",
    "                                      np.log(windmill_df3[windmill_df3.loc_type=='land'].heightm))\n",
    "lfit_hav, betahat_hav = q1.ols_predict(np.log(windmill_df3[windmill_df3.loc_type=='hav'].year2021), \n",
    "                                    np.log(windmill_df3[windmill_df3.loc_type=='hav'].heightm))\n",
    "\n",
    "\n",
    "print(f\"Estimated beta_1, on-shore turbines: {betahat_land[1]:5.2f}\")\n",
    "print(f\"Estimated beta_1, off-shore turbines: {betahat_hav[1]:3.2f}\")"
   ]
  },
  {
   "cell_type": "code",
   "execution_count": null,
   "metadata": {},
   "outputs": [],
   "source": [
    "# Plot!\n",
    "fig, (ax0, ax1) = plt.subplots(1,2, figsize=(20,6), sharey = True, sharex = True)\n",
    "\n",
    "# On-shore turbines\n",
    "ax0.scatter(x=np.log(windmill_df3[windmill_df3.loc_type=='land'].heightm), \n",
    "            y=np.log(windmill_df3[windmill_df3.loc_type=='land'].year2021), \n",
    "            label='Observed energy production')\n",
    "ax0.plot(np.log(windmill_df3[windmill_df3.loc_type=='land'].heightm), \n",
    "        lfit_land, color='C1', label='Linear fit')\n",
    "\n",
    "ax0.set_xlabel('Log height in meters')\n",
    "ax0.set_ylabel('Log energy production in kWh')\n",
    "ax0.legend(loc='lower right')\n",
    "ax0.set_title('Windmill height and energy production, on-shore')\n",
    "ax0.grid()\n",
    "\n",
    "# Off-shore turbines\n",
    "ax1.scatter(x=np.log(windmill_df3[windmill_df3.loc_type=='hav'].heightm), \n",
    "            y=np.log(windmill_df3[windmill_df3.loc_type=='hav'].year2021), \n",
    "                 label='Observed energy production')\n",
    "ax1.plot(np.log(windmill_df3[windmill_df3.loc_type=='hav'].heightm), \n",
    "         lfit_hav, color='C1', label='Linear fit')\n",
    "\n",
    "ax1.set_xlabel('Log height in meters')\n",
    "ax1.set_ylabel('Log energy production in kWh')\n",
    "ax1.legend(loc='lower right')\n",
    "ax1.set_title('Windmill height and energy production, off-shore')\n",
    "ax1.grid();\n"
   ]
  },
  {
   "cell_type": "markdown",
   "metadata": {},
   "source": [
    "For both on-shore and off-shore, the relation ship between height and productivity is positive. A 1 percent height increase is associated with a production increase of 3.86 and 2.40 percent, respectively. \n",
    "\n",
    "Note that many of the off-shore turbines produce the exact same amount of energy. I assume this is because the production in larger off-shore windmill parks is assumed to be evenly split between turbines, but it could also indicate problems with the quality of the data."
   ]
  },
  {
   "cell_type": "markdown",
   "metadata": {},
   "source": [
    "#### 3. Capacity utilization"
   ]
  },
  {
   "cell_type": "markdown",
   "metadata": {},
   "source": [
    "In order to calculate yearly average difference in production capacity and actual production, I return to the long form dataset. Once again, I drpo decommisioned and inactive windmills. Note thatI also drop mills in the year that they are decommissioned or connected, since I would expect them to have sub-capacity production in these years."
   ]
  },
  {
   "cell_type": "code",
   "execution_count": null,
   "metadata": {},
   "outputs": [],
   "source": [
    "# Copy dataframe and calculate capacity difference\n",
    "wm_long3 = wm_long.copy()\n",
    "wm_long3['capkWh'] = wm_long3.capkW*365*24\n",
    "wm_long3['cap_diff'] = wm_long3.capkWh-wm_long3.productionkWh\n",
    "wm_long3['cap_diff_pct'] = wm_long3.cap_diff/wm_long3.capkWh\n",
    "\n",
    "# drop decommissioned\n",
    "decom = wm_long3.year >= wm_long3.decom_year\n",
    "wm_long3.drop(wm_long3[decom].index, inplace=True)\n",
    "\n",
    "# drop inactive\n",
    "inactive = wm_long3.year <= wm_long3.connect_year\n",
    "wm_long3.drop(wm_long3[inactive].index, inplace=True)\n",
    "\n",
    "# Format location type\n",
    "wm_long3['loc_type'] = wm_long3.loc_type.str.lower()\n",
    "\n",
    "# Calculate yearly average capacity difference and add to yearly dataframe\n",
    "for loc in ['land', 'hav']:\n",
    "    # aboslute\n",
    "    col_name = 'meancapdiff_'+loc + 'kWh'\n",
    "    for year in range(1990, 2022):\n",
    "        meandiff = wm_long3[wm_long3.year == year][wm_long3.loc_type == loc].cap_diff.mean()\n",
    "        windmill_yearly.loc[year, col_name] = meandiff\n",
    "\n",
    "    # percent\n",
    "    col_name = 'meancapdiff_'+loc+'pct'\n",
    "    for year in range(1990, 2022):\n",
    "        meandiff_pct = wm_long3[wm_long3.year == year][wm_long3.loc_type == loc].cap_diff_pct.mean()\n",
    "        windmill_yearly.loc[year, col_name] = meandiff_pct"
   ]
  },
  {
   "cell_type": "code",
   "execution_count": null,
   "metadata": {},
   "outputs": [],
   "source": [
    "# Plot!\n",
    "fig, (ax0, ax1) = plt.subplots(1,2, figsize=(20,6))\n",
    "\n",
    "# absolute difference\n",
    "ax0.plot(windmill_yearly.index, windmill_yearly.meancapdiff_landkWh/10_000., label='On-shore windmills')\n",
    "ax0.plot(windmill_yearly.index, windmill_yearly.meancapdiff_havkWh/10_000, label='Off-shore windmills')\n",
    "ax0.set_ylabel('10.000 kWh')\n",
    "ax0.legend()\n",
    "ax0.get_yaxis().set_major_formatter(\n",
    "    matplotlib.ticker.FuncFormatter(lambda x, p: format(int(x), ',')))\n",
    "ax0.set_title('Average difference between capacity and production')\n",
    "ax0.grid()\n",
    "\n",
    "# percentage difference\n",
    "ax1.plot(windmill_yearly.index, windmill_yearly.meancapdiff_landpct*100, label='On-shore windmills')\n",
    "ax1.plot(windmill_yearly.index, windmill_yearly.meancapdiff_havpct*100, label='Off-shore windmills')\n",
    "ax1.set_ylabel('Percent')\n",
    "ax1.legend()\n",
    "ax1.set_title('Average difference between capacity and production, percent of total capacity')\n",
    "ax1.grid();"
   ]
  },
  {
   "cell_type": "markdown",
   "metadata": {},
   "source": [
    "While the average absolute difference between capcity and production has been rising for both on-shore and off-shore windmills, unused capacity for off-shore windmills increases dramatically more that of on-shore windmills, especially around 2000. However, this can reflect that the overall capacity for production is higher in off-shore windmills.\n",
    "\n",
    "When examining the capacity difference as a percentage of total capacity, it becomes evident that this is actually the case. The relative unused capacity for production is actually higher for on-shore than for off-shore windmills. Moreover, the share of unused capacity in on-shore windmills has been constant since 1990, at 75-80 percent of total capacity. Meanwhile, the share of unused capacity in off-shore windmills dropped dramatically from 75 pct. in 2000 to 60 percent in 2010 and has en roughly constant since. "
   ]
  },
  {
   "cell_type": "markdown",
   "metadata": {},
   "source": [
    "# A discrete-continuous consumption-saving model"
   ]
  },
  {
   "cell_type": "code",
   "execution_count": null,
   "metadata": {},
   "outputs": [],
   "source": [
    "# Parameters\n",
    "par = SimpleNamespace()\n",
    "par.rho = 8.0\n",
    "par.nu = 0.1\n",
    "par.kappa = 1\n",
    "par.beta = 0.90\n",
    "par.tau = 0.8\n",
    "par.gamma = 1.2\n",
    "par.ybar = 1.5\n",
    "par.r = 0.04\n",
    "par.p = 0.5\n",
    "par.Delta = 0.4\n",
    "\n",
    "m_min = par.tau+1e-5    # minimum value for m - must be possible to pay for studying\n",
    "m_max = 5.0         # maximum value for m\n",
    "grid_n = 100        # grid density\n"
   ]
  },
  {
   "cell_type": "markdown",
   "metadata": {},
   "source": [
    "#### Question 1\n",
    "To solve the model, I use the user written module examq2."
   ]
  },
  {
   "cell_type": "markdown",
   "metadata": {},
   "source": [
    "I solve the model by starting in period 2. Here, I solve the model for the optimal level of consumption in period 2, $c_2^*$ over a grid of cash on hand $m_2$. I store the results in  a vector of optimal consumption points, `c2_grid`. I also calculate the utility value of these consumption points and store the results in a vector `v2_grid`. I use `v2_grid` to set up a linear interpolater `v2_interp` for the value of cash on hand in period 2, which will be of use when solving period 1."
   ]
  },
  {
   "cell_type": "code",
   "execution_count": null,
   "metadata": {},
   "outputs": [],
   "source": [
    "# set up grid over m\n",
    "m_grid = np.linspace(m_min, m_max, grid_n)\n",
    "\n",
    "# solve period 2 over grid of m_2\n",
    "v2_grid, c2_grid = np.array([q2.v2(m, par) for m in m_grid]).T\n",
    "\n",
    "# set up interpolater\n",
    "v2_interp = interpolate.RegularGridInterpolator([m_grid], v2_grid,\n",
    "                                                bounds_error=False,fill_value=None)"
   ]
  },
  {
   "cell_type": "markdown",
   "metadata": {},
   "source": [
    "Next, I solve for the optimal choice of consumption and whether or not to study in period 1 over a grid of cash on hand $m_1$. For a given $m_1$ I do this by solving the model once where the agent studies and once shere she doesn't. The optimal choice of study is the solution that yields the highest utility value and its corresponding sonsumption and study choice. I store the results in a vector of optimal consumption, `c1_grid` and a vector of optimal study choice `s_grid`. I store the corresponding utility values in a vector `v1_grid`."
   ]
  },
  {
   "cell_type": "code",
   "execution_count": null,
   "metadata": {},
   "outputs": [],
   "source": [
    "v1_grid, c1_grid, s_grid = np.array([q2.v1(m, par, v2_interp) for m in m_grid]).T"
   ]
  },
  {
   "cell_type": "markdown",
   "metadata": {},
   "source": [
    "Finally, I plot the results."
   ]
  },
  {
   "cell_type": "code",
   "execution_count": null,
   "metadata": {},
   "outputs": [],
   "source": [
    "fig, (ax0, ax1, ax2) = plt.subplots(1,3, figsize=(24,6))\n",
    "\n",
    "# value functions\n",
    "ax0.plot(m_grid, v1_grid, label='$v_1(m_1)$')\n",
    "ax0.plot(m_grid, v2_grid, label='$v_2(m_2)$')\n",
    "ax0.set_xlabel('$m_1$/$m_2$')\n",
    "ax0.set_ylabel('$v_1$/$v_2$')\n",
    "ax0.set_title('Value of cash on hand')\n",
    "ax0.legend()\n",
    "ax0.grid()\n",
    "\n",
    "# consumption functions\n",
    "ax1.plot(m_grid, c1_grid, label='$c_1^*(m_1)$')\n",
    "ax1.plot(m_grid, c2_grid, label='$c_2^*(m_2)$')\n",
    "ax1.set_xlabel('$m_1$/$m_2$')\n",
    "ax1.set_ylabel('$c_2$/$c_2$')\n",
    "ax1.set_title('Consumption choice')\n",
    "ax1.legend(loc='lower right')\n",
    "ax1.grid()\n",
    "\n",
    "# study choice\n",
    "ax2.plot(m_grid, s_grid, label='$s^*$')\n",
    "ax2.set_xlabel('$m_1$')\n",
    "ax2.set_ylabel('s^*')\n",
    "ax2.set_title('Study choice')\n",
    "ax2.legend(loc='lower right')\n",
    "ax2.grid();"
   ]
  },
  {
   "cell_type": "markdown",
   "metadata": {},
   "source": [
    "Panel 1 of the above figure shows that the utility value $v_n$ is increasing in cash on hand $m_n$, which is to be expected. For a given level of $m_n$, the value at time 2 is higher than at time 1, $v_2(m)>v_1(m)$. This is because $m_1$ is supposed to finance consumption in two periods, where one is discounted with a rate of $\\beta$, whereas $m_2$ only finances consumption that is not discounted.\n",
    "\n",
    "Panel 2 shows the consumption profiles in periods 1 and 2. In period 1, the consumption profile is kinked at around $m_1\\approx1.25$. This is due to the agent being credit constraint. For $m_1\\leq1.25$, the agent consumes her entire cash on hand at time 1, and only for $m_1 > 1.25$ will she save betwwen periods.\n",
    "The consumption profile at time 2 also has a kink, at approximately $m_2 \\approx 1.3$. This kink is attributable to the bequest motive. For $m_2 > 1.3$ the agent will leave behind assets for her bequeathers in stead of consuming her entire cash on hand.\n",
    "\n",
    "The consumption profile in period 1 has a discontinuity at around $m_1=2.28$. This is explained by panel 3 - the optimal studying profile. Panel 3 shows that $m_1 = 2.28$ is the point where it becomes optimal for the agent to reduce her consumption in favor of paying to study. Hereafter, there is a short inteval of $m_1$ where the credit constraint is binding, and the entir cash on hand is used on studying and consumption. At approximately $m_1 \\approx 2.8$, it once again becomes optimal for the consumer to save, which explains the second kin in the consumption profile."
   ]
  },
  {
   "cell_type": "markdown",
   "metadata": {},
   "source": [
    "#### Question 2"
   ]
  },
  {
   "cell_type": "markdown",
   "metadata": {},
   "source": [
    "Let $\\tilde{\\tau}_3$ denote the value of $\\tau$ that makes a consumer with $m_1=3$ indifferent between studying nad not studying. Then, any $\\tau < \\tilde{\\tau}_3$ must make it optimal for the consumer to study, while $\\tau > \\tilde{tau}_3$ makes it optimal not to study.\n",
    "\n",
    "To find the value of $\\tilde{\\tau}_3$, I define the function `study_gain`, which for a given value of $\\tau$ returns the utility value gain from studying. At $\\tilde{\\tau}_3$, `study_gain` must equal 0. Therefore, I can compute the value of $\\tilde{\\tau}_3$ by calling a root finder on `study_gain`."
   ]
  },
  {
   "cell_type": "code",
   "execution_count": null,
   "metadata": {},
   "outputs": [],
   "source": [
    "# Find root\n",
    "obj = lambda tau: q2.study_gain(3, tau, v2_interp, par)\n",
    "res  = optimize.root_scalar(obj, bracket=(0,3 - 1e-08)) # tau_tilde must be between 0 and full cash on hand value\n",
    "assert res.converged\n",
    "\n",
    "root = res.root\n",
    "print(f'Consumer is indifferent at tau = {root:4.3f}')"
   ]
  },
  {
   "cell_type": "markdown",
   "metadata": {},
   "source": [
    "So for any $\\tau > 1.123$, it is not optimal for a consumer with $m_1=3$ to study. \n",
    "\n",
    "The plot below illustrates the result by plotting `study_gain` against different values of $\\tau$. The function crosses the x-axis at exactly $\\tau = 1.123$"
   ]
  },
  {
   "cell_type": "code",
   "execution_count": null,
   "metadata": {},
   "outputs": [],
   "source": [
    "tau_grid = np.linspace(0, 1.5, grid_n)\n",
    "study_gain_grid = [q2.study_gain(3, tau, v2_interp, par) for tau in tau_grid]\n",
    "\n",
    "fig, ax = plt.subplots(figsize=(10,6))\n",
    "ax.scatter(root, 0, zorder=2)\n",
    "ax.plot(tau_grid, study_gain_grid, zorder = 1)\n",
    "ax.axhline(0, color = 'black', alpha = 0.5, zorder=0)\n",
    "ax.set_ylabel('Value gain')\n",
    "ax.set_xlabel(r'$\\tau$')\n",
    "ax.set_title('Extra value from studying')\n",
    "ax.grid();"
   ]
  },
  {
   "cell_type": "markdown",
   "metadata": {},
   "source": [
    "# Approximating a function"
   ]
  },
  {
   "cell_type": "markdown",
   "metadata": {},
   "source": [
    "#### Question 1\n",
    "Below, I implement the given algorithm and create a function approximator."
   ]
  },
  {
   "cell_type": "code",
   "execution_count": null,
   "metadata": {},
   "outputs": [],
   "source": [
    "# Approximating the function\n",
    "def f_approx(x, f, N, M):\n",
    "    \"\"\"Approximates function at inteval [-1;1]\n",
    "    Inputs:\n",
    "    x (float, [-1,1]): Evaluation point\n",
    "    f (callable): Function to be approximated\n",
    "    N (int): Degree of approximation\n",
    "    M (int, M<N): Number of evaluations of f\n",
    "    \n",
    "    Returns:\n",
    "    f_approx (float): approximation of f(x) \"\"\"\n",
    "\n",
    "    # Step 1: Compute optimal evaluation points, z\n",
    "    def z(k,M):\n",
    "        return -np.cos(((2*k-1)/(2*M))*np.pi)\n",
    "    zs = np.array([z(k, M) for k in range(1, M+1)])\n",
    "\n",
    "\n",
    "    # Step 2: Evaluate function at evaluation points\n",
    "    ys = np.array([f(z) for z in zs])\n",
    "    \n",
    "    # Step 3: Compute approximation coefficients\n",
    "    def T(i, x):\n",
    "        return np.cos(i*np.arccos(x))\n",
    "\n",
    "    f_approx =0\n",
    "    for i in range(N+1):\n",
    "        Tzs = np.array([T(i, z) for z in zs])\n",
    "        a = ((Tzs*ys).sum())/((Tzs**2)).sum()\n",
    "        f_approx += a*T(i, x)\n",
    "\n",
    "    # Step 4: Return approximation\n",
    "    return f_approx"
   ]
  },
  {
   "cell_type": "markdown",
   "metadata": {},
   "source": [
    "#### Question 2\n",
    "I test `f_approx` by evaluating it at $x \\in \\{-0.5, 0.0, 0.98\\}$. Approximated values and deviations from the true values are reported below."
   ]
  },
  {
   "cell_type": "code",
   "execution_count": null,
   "metadata": {},
   "outputs": [],
   "source": [
    "# Setup\n",
    "f = lambda x: 1/(1+x**2) + x**3 - 0.5*x\n",
    "N = 5\n",
    "M = 8\n",
    "xs = np.array([-0.5, 0.0, 0.98])\n",
    "\n",
    "# Approximate\n",
    "approxs = [f_approx(x, f, N, M) for x in xs]\n",
    "trues = [f(x) for x in xs]\n",
    "for i in range(len(xs)):\n",
    "    print(f'Function evaluated at: {xs[i]:6.2f},      Approx. value: {approxs[i]:6.2f},     Deviation: {approxs[i]-trues[i]:6.2f}')"
   ]
  }
 ],
 "metadata": {
  "interpreter": {
   "hash": "f4ac674f7442aae53d63e4312865d804a459b1f98b1880e02613dc39b3420bec"
  },
  "kernelspec": {
   "display_name": "Python 3 (ipykernel)",
   "language": "python",
   "name": "python3"
  },
  "language_info": {
   "codemirror_mode": {
    "name": "ipython",
    "version": 3
   },
   "file_extension": ".py",
   "mimetype": "text/x-python",
   "name": "python",
   "nbconvert_exporter": "python",
   "pygments_lexer": "ipython3",
   "version": "3.9.7"
  }
 },
 "nbformat": 4,
 "nbformat_minor": 4
}
