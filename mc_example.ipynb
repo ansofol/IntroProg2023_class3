{
 "cells": [
  {
   "cell_type": "code",
   "execution_count": 2,
   "metadata": {},
   "outputs": [],
   "source": [
    "import numpy as np"
   ]
  },
  {
   "attachments": {},
   "cell_type": "markdown",
   "metadata": {},
   "source": [
    "# Using Monte Carlo to compute expected utility"
   ]
  },
  {
   "attachments": {},
   "cell_type": "markdown",
   "metadata": {},
   "source": [
    "An agent receives a stochastic income, $y \\sim \\chi^2(1)$. She consumes her entire income, $c=y$ and receives utility $u(c) = \\frac{c^{1-\\sigma}-1}{1-\\sigma}$. We are interested in her expected utility:\n",
    "\\begin{align*}\n",
    "\\mathbb{E}(u(c)) &= \\mathbb{E\\left(\\frac{c^{1-\\sigma}-1}{1-\\sigma}\\right)} \\\\\n",
    "                & c = y, \\quad \\log(y)\\sim N(0,1)\n",
    "\\end{align*}"
   ]
  },
  {
   "cell_type": "code",
   "execution_count": 3,
   "metadata": {},
   "outputs": [
    {
     "name": "stdout",
     "output_type": "stream",
     "text": [
      "Expected utility: -0.25790168267452573\n"
     ]
    }
   ],
   "source": [
    "# first, we define the instantaneous utility function. Here CRRA with sigma=1.5\n",
    "def utility(c, sigma=1.5):\n",
    "    return (c**(1-sigma)-1)/(1-sigma)\n",
    "\n",
    "# In period 2, income is drawn from a chi^2-distribution. We can simulate a vector of different income shocks\n",
    "N = 10_000 # number of random draws\n",
    "np.random.seed(2023) # set seed to ensure reproducibility\n",
    "y = np.random.lognormal(0,1, size=N) # draw income\n",
    "\n",
    "# We can then compute consumption from each income shock. Here c is just equal to y, but this could be different\n",
    "# if ie. the consumer has to choose some optimal consumption bundle.\n",
    "def consumption(y):\n",
    "    return y\n",
    "\n",
    "# We compute consumption for each income shock\n",
    "c = consumption(y)\n",
    "\n",
    "# Then we compute utility for each income shock\n",
    "u = utility(c)\n",
    "\n",
    "# And finally, we can compute the expected utility\n",
    "exp_u = u.mean()\n",
    "print(f'Expected utility: {exp_u}')"
   ]
  }
 ],
 "metadata": {
  "kernelspec": {
   "display_name": "base",
   "language": "python",
   "name": "python3"
  },
  "language_info": {
   "codemirror_mode": {
    "name": "ipython",
    "version": 3
   },
   "file_extension": ".py",
   "mimetype": "text/x-python",
   "name": "python",
   "nbconvert_exporter": "python",
   "pygments_lexer": "ipython3",
   "version": "3.9.16"
  },
  "orig_nbformat": 4
 },
 "nbformat": 4,
 "nbformat_minor": 2
}
