{
 "cells": [
  {
   "cell_type": "markdown",
   "metadata": {},
   "source": [
    "# Problem set 6: Solving the Solow model"
   ]
  },
  {
   "cell_type": "code",
   "execution_count": 19,
   "metadata": {},
   "outputs": [],
   "source": [
    "import numpy as np\n",
    "from scipy import linalg\n",
    "from scipy import optimize\n",
    "import sympy as sm"
   ]
  },
  {
   "cell_type": "markdown",
   "metadata": {},
   "source": [
    "# Tasks"
   ]
  },
  {
   "cell_type": "markdown",
   "metadata": {},
   "source": [
    "## Solving matrix equations I"
   ]
  },
  {
   "cell_type": "code",
   "execution_count": 20,
   "metadata": {},
   "outputs": [],
   "source": [
    "np.random.seed(1900)\n",
    "n = 5\n",
    "A = np.random.uniform(size=(n,n))\n",
    "b = np.random.uniform(size=n)\n",
    "c = np.random.uniform(size=n)\n",
    "d = np.random.uniform(size=n)"
   ]
  },
  {
   "cell_type": "markdown",
   "metadata": {},
   "source": [
    "**Question A:** Find the determinant of $[A \\cdot A]^{-1}$"
   ]
  },
  {
   "cell_type": "code",
   "execution_count": 38,
   "metadata": {},
   "outputs": [
    {
     "name": "stdout",
     "output_type": "stream",
     "text": [
      "13132.548734460965\n"
     ]
    }
   ],
   "source": [
    "# write your code here\n",
    "detA = linalg.det(linalg.inv(A@A))\n",
    "print(detA)"
   ]
  },
  {
   "cell_type": "markdown",
   "metadata": {},
   "source": [
    "**Answer:** see A1.py"
   ]
  },
  {
   "cell_type": "markdown",
   "metadata": {},
   "source": [
    "**Question B:** Solve the following equation systems directly using **scipy**.\n",
    "\n",
    "$$\n",
    "\\begin{aligned}\n",
    "Ax &= b \\\\\n",
    "Ax &= c \\\\\n",
    "Ax &= d \n",
    "\\end{aligned}\n",
    "$$"
   ]
  },
  {
   "cell_type": "code",
   "execution_count": 22,
   "metadata": {},
   "outputs": [
    {
     "name": "stdout",
     "output_type": "stream",
     "text": [
      "[-15.33189031 -24.00998148  40.02675108  15.24193293   4.89008792]\n",
      "[ -7.72469812 -11.6354722   20.86796131   7.93343031   1.55909328]\n",
      "[-2.57374569 -4.00256301  7.93409587  2.56007481  1.25709881]\n"
     ]
    }
   ],
   "source": [
    "x_b = linalg.solve(A, b)\n",
    "x_c = linalg.solve(A, c)\n",
    "x_d = linalg.solve(A, d)\n",
    "\n",
    "print(x_b)\n",
    "print(x_c)\n",
    "print(x_d)"
   ]
  },
  {
   "cell_type": "markdown",
   "metadata": {},
   "source": [
    "**Answer:** A2.py"
   ]
  },
  {
   "cell_type": "markdown",
   "metadata": {},
   "source": [
    "**Question C:** Solve the same equation systems as above using `linalg.lu_factor()` and `linalg.lu_solve()`. What is the benefit of this approach?"
   ]
  },
  {
   "cell_type": "code",
   "execution_count": 23,
   "metadata": {},
   "outputs": [
    {
     "name": "stdout",
     "output_type": "stream",
     "text": [
      "[-15.33189031 -24.00998148  40.02675108  15.24193293   4.89008792]\n",
      "[ -7.72469812 -11.6354722   20.86796131   7.93343031   1.55909328]\n",
      "[-2.57374569 -4.00256301  7.93409587  2.56007481  1.25709881]\n"
     ]
    }
   ],
   "source": [
    "LU, piv = linalg.lu_factor(A) # perform LU-decomposition (only once)\n",
    "\n",
    "x_b_lu = linalg.lu_solve((LU, piv), b) \n",
    "x_c_lu = linalg.lu_solve((LU, piv), c)\n",
    "x_d_lu = linalg.lu_solve((LU, piv), d)\n",
    "\n",
    "print(x_b_lu)\n",
    "print(x_c_lu)\n",
    "print(x_d_lu)"
   ]
  },
  {
   "cell_type": "code",
   "execution_count": 24,
   "metadata": {},
   "outputs": [
    {
     "name": "stdout",
     "output_type": "stream",
     "text": [
      "75.1 µs ± 12.8 µs per loop (mean ± std. dev. of 7 runs, 10000 loops each)\n",
      "32.2 µs ± 6.75 µs per loop (mean ± std. dev. of 7 runs, 10000 loops each)\n",
      "\n",
      "76.7 µs ± 12.4 µs per loop (mean ± std. dev. of 7 runs, 10000 loops each)\n",
      "16.1 µs ± 1.29 µs per loop (mean ± std. dev. of 7 runs, 100000 loops each)\n"
     ]
    }
   ],
   "source": [
    "# The LU-factorization approach is much faster:\n",
    "%timeit linalg.solve(A, b)\n",
    "%timeit LU, piv = linalg.lu_factor(A); x_b_lu = linalg.lu_solve((LU, piv), b)\n",
    "print()\n",
    "\n",
    "# Especially when LU, piv has already been computed once:\n",
    "%timeit linalg.solve(A, b)\n",
    "%timeit x_b_lu = linalg.lu_solve((LU, piv), b)"
   ]
  },
  {
   "cell_type": "markdown",
   "metadata": {},
   "source": [
    "**Answer:** A3.py"
   ]
  },
  {
   "cell_type": "markdown",
   "metadata": {},
   "source": [
    "## Solving matrix equations II"
   ]
  },
  {
   "cell_type": "code",
   "execution_count": 25,
   "metadata": {},
   "outputs": [],
   "source": [
    "F = np.array([[2.0, 1.0, -1.0], [-3.0, -1.0, 2], [-2.0, 1.0, 2.0]])\n",
    "e = np.array([8.0, -11.0, -3.0])"
   ]
  },
  {
   "cell_type": "markdown",
   "metadata": {},
   "source": [
    "**Question:** Use the function `gauss_jordan()` in the `numecon_linalg` module located in this folder to solve\n",
    "\n",
    "$$\n",
    "Fx = e\n",
    "$$"
   ]
  },
  {
   "cell_type": "code",
   "execution_count": 26,
   "metadata": {},
   "outputs": [
    {
     "name": "stdout",
     "output_type": "stream",
     "text": [
      "[ 2.  3. -1.]\n"
     ]
    }
   ],
   "source": [
    "from numecon_linalg import *\n",
    "\n",
    "Z = np.column_stack((F,e))\n",
    "gauss_jordan(Z)\n",
    "x = Z[:,-1]\n",
    "print(x)"
   ]
  },
  {
   "cell_type": "code",
   "execution_count": 27,
   "metadata": {},
   "outputs": [
    {
     "name": "stdout",
     "output_type": "stream",
     "text": [
      "128 µs ± 16.9 µs per loop (mean ± std. dev. of 7 runs, 10000 loops each)\n"
     ]
    }
   ],
   "source": [
    "# not as fast:\n",
    "%timeit Z = np.column_stack((F,e)); gauss_jordan(Z)"
   ]
  },
  {
   "cell_type": "markdown",
   "metadata": {},
   "source": [
    "**Answer:** see A4.py"
   ]
  },
  {
   "cell_type": "markdown",
   "metadata": {},
   "source": [
    "## Symbolic"
   ]
  },
  {
   "cell_type": "markdown",
   "metadata": {},
   "source": [
    "**Question A:** Find\n",
    "\n",
    "$$\n",
    "\\lim_{x \\rightarrow 0} \\frac{\\sin(x)}{x}\n",
    "$$\n",
    "\n",
    "and\n",
    "\n",
    "$$\n",
    "\\frac{\\partial\\sin(2x)}{\\partial x} \n",
    "$$"
   ]
  },
  {
   "cell_type": "code",
   "execution_count": 10,
   "metadata": {},
   "outputs": [
    {
     "name": "stdout",
     "output_type": "stream",
     "text": [
      "The limit of sin(x)/x as x goes 0 is 1\n",
      "The derivative of sin(2*x)/x is 2*cos(2*x)/x - sin(2*x)/x**2\n"
     ]
    }
   ],
   "source": [
    "import sympy as sm\n",
    "\n",
    "# define symbols\n",
    "x = sm.symbols('x')\n",
    "\n",
    "# Function 1\n",
    "f1 = sm.sin(x)/x\n",
    "lim_x0 = sm.limit(f1, x, 0)\n",
    "print(f'The limit of {f1} as x goes 0 is {lim_x0}')\n",
    "\n",
    "# Function 2\n",
    "f2 = sm.sin(2*x)/x\n",
    "f2_diff = sm.diff(f2, x)\n",
    "print(f'The derivative of {f2} is {f2_diff}')"
   ]
  },
  {
   "cell_type": "markdown",
   "metadata": {},
   "source": [
    "**Answer:** A5.py"
   ]
  },
  {
   "cell_type": "markdown",
   "metadata": {},
   "source": [
    "**Question B:** Solve the equation\n",
    "\n",
    "$$ \n",
    "\\frac{\\sin(x)}{x} = 0\n",
    "$$"
   ]
  },
  {
   "cell_type": "code",
   "execution_count": 11,
   "metadata": {},
   "outputs": [
    {
     "data": {
      "text/latex": [
       "$\\displaystyle \\left(\\left\\{2 n \\pi\\; \\middle|\\; n \\in \\mathbb{Z}\\right\\} \\setminus \\left\\{0\\right\\}\\right) \\cup \\left(\\left\\{2 n \\pi + \\pi\\; \\middle|\\; n \\in \\mathbb{Z}\\right\\} \\setminus \\left\\{0\\right\\}\\right)$"
      ],
      "text/plain": [
       "Union(Complement(ImageSet(Lambda(_n, 2*_n*pi + pi), Integers), {0}), Complement(ImageSet(Lambda(_n, 2*_n*pi), Integers), {0}))"
      ]
     },
     "execution_count": 11,
     "metadata": {},
     "output_type": "execute_result"
    }
   ],
   "source": [
    "# write your code here\n",
    "eq = sm.Eq(f1, 0)\n",
    "sol = sm.solveset(eq,  x)\n",
    "sol # gives all solutions in set notation "
   ]
  },
  {
   "cell_type": "code",
   "execution_count": 12,
   "metadata": {},
   "outputs": [
    {
     "name": "stderr",
     "output_type": "stream",
     "text": [
      "<lambdifygenerated-1>:2: RuntimeWarning: invalid value encountered in divide\n",
      "  return sin(x)/x\n"
     ]
    },
    {
     "data": {
      "image/png": "[encoded data removed]",
      "text/plain": [
       "<Figure size 640x480 with 1 Axes>"
      ]
     },
     "metadata": {},
     "output_type": "display_data"
    }
   ],
   "source": [
    "# Visual solution:\n",
    "\n",
    "import matplotlib.pyplot as plt\n",
    "func = sm.lambdify(x,f1)\n",
    "x_vec = np.linspace(-15, 15, 81)\n",
    "f_vec = func(x_vec)\n",
    "\n",
    "# plot function\n",
    "fig = plt.figure()\n",
    "ax = fig.add_subplot(1,1,1)\n",
    "ax.plot(x_vec, f_vec)\n",
    "\n",
    "# plot roots\n",
    "ns = list(range(-5,5))\n",
    "ns = np.array(ns)\n",
    "root1 = list(2*np.pi*ns)\n",
    "root1.remove(0)\n",
    "root2 = list(2*np.pi*ns+np.pi)\n",
    "ax.scatter(root1, np.zeros(len(root1)), label='$2n\\pi$')\n",
    "ax.scatter(root2, np.zeros(len(root2)), label='$2n\\pi + \\pi$')\n",
    "\n",
    "ax.legend()\n",
    "ax.grid()\n",
    "ax.set_xlim(-15,15)\n",
    "ax.set_xlabel('$x$')\n",
    "ax.set_ylabel('$\\sin(x)/x$');"
   ]
  },
  {
   "cell_type": "markdown",
   "metadata": {},
   "source": [
    "**Answer:** A6.py"
   ]
  },
  {
   "cell_type": "markdown",
   "metadata": {},
   "source": [
    "# Problem: Solve the Solow model"
   ]
  },
  {
   "cell_type": "markdown",
   "metadata": {},
   "source": [
    "## Introduction"
   ]
  },
  {
   "cell_type": "markdown",
   "metadata": {},
   "source": [
    "Consider the **standard Solow-model** where:\n",
    "\n",
    "1. $K_t$ is capital2\n",
    "2. $L_t$ is labor (growing with a constant rate of $n$)\n",
    "3. $A_t$ is technology (growing with a constant rate of $g$)\n",
    "4. $Y_t = F(K_t,A_tL_t)$ is GDP\n",
    "\n",
    "**Saving** is a constant fraction of GDP\n",
    "\n",
    "$$ \n",
    "S_t = sY_t,\\,s\\in(0,1)\n",
    "$$\n",
    "\n",
    "such that **capital accumulates** according to\n",
    "\n",
    "$$\n",
    "K_{t+1}=S_{t}+(1-\\delta)K_{t}=sF(K_{t},A_{t}L_{t})+(1-\\delta)K_{t}, \\delta \\in (0,1)\n",
    "$$\n",
    "\n",
    "The **production function** has **constant-return to scale** such that\n",
    "\n",
    "$$\n",
    "\\frac{Y_{t}}{A_{t}L_{t}}=\\frac{F(K_{t},A_{t}L_{t})}{A_{t}L_{t}}=F(\\tilde{k}_{t},1)\\equiv f(\\tilde{k}_{t})\n",
    "$$\n",
    "\n",
    "where $\\tilde{k}_t = \\frac{K_t}{A_{t}L_{t}}$ is the technology adjusted capital-labor ratio.\n",
    "\n",
    "The **transition equation** then becomes\n",
    "\n",
    "$$\n",
    "\\tilde{k}_{t+1}= \\frac{1}{(1+n)(1+g)}[sf(\\tilde{k}_{t})+(1-\\delta)\\tilde{k}_{t}]\n",
    "$$\n",
    "\n",
    "If the **production function** is **Cobb-Douglas** then\n",
    "\n",
    "$$\n",
    "F(K_{t},A_{t}L_{t})=K_{t}^{\\alpha}(A_{t}L_{t})^{1-\\alpha}\\Rightarrow f(\\tilde{k}_{t})=\\tilde{k}_{t}^{\\alpha}\n",
    "$$\n",
    "\n",
    "If it is **CES** (with $\\beta < 1, \\beta \\neq 0$) then\n",
    "\n",
    "$$\n",
    "F(K_{t},A_{t}L_{t})=(\\alpha K_{t}^{\\beta}+(1-\\alpha)(A_{t}L_{t})^{\\beta})^{\\frac{1}{\\beta}}\\Rightarrow f(\\tilde{k}_{t})=(\\alpha\\tilde{k}_{t}^{\\beta}+(1-\\alpha))^{\\frac{1}{\\beta}}\n",
    "$$"
   ]
  },
  {
   "cell_type": "markdown",
   "metadata": {},
   "source": [
    "## Steady state"
   ]
  },
  {
   "cell_type": "markdown",
   "metadata": {},
   "source": [
    "Assume the production function is **Cobb-Douglas**."
   ]
  },
  {
   "cell_type": "markdown",
   "metadata": {},
   "source": [
    "**Question A:** Use **sympy** to find an analytical expression for the steady state, i.e. solve\n",
    "\n",
    "$$\n",
    "\\tilde{k}^{\\ast}= \\frac{1}{(1+n)(1+g)}[sf(\\tilde{k}^{\\ast})+(1-\\delta)\\tilde{k}^{\\ast}]\n",
    "$$"
   ]
  },
  {
   "cell_type": "code",
   "execution_count": 13,
   "metadata": {},
   "outputs": [],
   "source": [
    "k = sm.symbols('k')\n",
    "alpha = sm.symbols('alpha')\n",
    "delta = sm.symbols('delta')\n",
    "s = sm.symbols('s')\n",
    "g = sm.symbols('g')\n",
    "n = sm.symbols('n')"
   ]
  },
  {
   "cell_type": "code",
   "execution_count": 14,
   "metadata": {},
   "outputs": [
    {
     "data": {
      "text/latex": [
       "$\\displaystyle \\left(\\frac{\\delta + g n + g + n}{s}\\right)^{\\frac{1}{\\alpha - 1}}$"
      ],
      "text/plain": [
       "((delta + g*n + g + n)/s)**(1/(alpha - 1))"
      ]
     },
     "execution_count": 14,
     "metadata": {},
     "output_type": "execute_result"
    }
   ],
   "source": [
    "# production\n",
    "f = k**alpha\n",
    "\n",
    "# transition equation\n",
    "transition_sym = 1/((1+n)*(1+g))*(s*f+(1-delta)*k)\n",
    "\n",
    "# solve for steady state\n",
    "ss_eq = sm.Eq(k, transition_sym)\n",
    "ss = sm.solve(ss_eq, k)[0]\n",
    "ss\n"
   ]
  },
  {
   "cell_type": "markdown",
   "metadata": {},
   "source": [
    "**Answer:** see A7.py"
   ]
  },
  {
   "cell_type": "markdown",
   "metadata": {},
   "source": [
    "**Question B:** Turn you solution into a Python function called as `ss_func(s,g,n,delta,alpha)`. "
   ]
  },
  {
   "cell_type": "code",
   "execution_count": 15,
   "metadata": {},
   "outputs": [
    {
     "data": {
      "text/plain": [
       "2.2801388112575736"
      ]
     },
     "execution_count": 15,
     "metadata": {},
     "output_type": "execute_result"
    }
   ],
   "source": [
    "ss_func = sm.lambdify((s,g,n,delta,alpha), ss)\n",
    "\n",
    "ss_func(0.25, 0.02, 0.02, 0.1, 0.3)"
   ]
  },
  {
   "cell_type": "markdown",
   "metadata": {},
   "source": [
    "**Answer:** A8.py"
   ]
  },
  {
   "cell_type": "markdown",
   "metadata": {},
   "source": [
    "**Question C**: Find the steady state numerically using root-finding with `optimize.root_scalar`."
   ]
  },
  {
   "cell_type": "code",
   "execution_count": 39,
   "metadata": {},
   "outputs": [
    {
     "name": "stdout",
     "output_type": "stream",
     "text": [
      "Numrical: 1.9038315392313176\n",
      "SymPy: 1.903831539231319\n"
     ]
    }
   ],
   "source": [
    "s = 0.2\n",
    "g = 0.02\n",
    "n = 0.01\n",
    "alpha = 1/3\n",
    "delta = 0.1\n",
    "\n",
    "# write your code here\n",
    "# define transition equation:\n",
    "def transition_num(k, f, s,g,n,alpha,delta, beta=None): # include beta as a kwarg so I can reuse this later\n",
    "    fk = f(k, alpha, beta) # production function\n",
    "    return 1/((1+n)*(1+g))*(s*fk +(1-delta)*k)\n",
    "\n",
    "## Cobb-Douglas production function\n",
    "def f_cd(k,alpha,beta=None):\n",
    "    return k**alpha\n",
    "\n",
    "# define objective for root finder\n",
    "obj = lambda k: transition_num(k, f_cd, s,g,n,alpha,delta) - k\n",
    "\n",
    "# find root\n",
    "res = optimize.root_scalar(obj, bracket=[0.01, 10], method='brentq')\n",
    "print('Numrical:', res.root)\n",
    "\n",
    "# is this the same as what sympy found?\n",
    "print('SymPy:', ss_func(s,g,n,delta,alpha))"
   ]
  },
  {
   "cell_type": "markdown",
   "metadata": {},
   "source": [
    "**Answer:** A9.py"
   ]
  },
  {
   "cell_type": "markdown",
   "metadata": {},
   "source": [
    "**Question D:** Now assume the production function is CES. Find the steady state for $k$ for the various values of $\\beta$ shown below."
   ]
  },
  {
   "cell_type": "code",
   "execution_count": 40,
   "metadata": {},
   "outputs": [],
   "source": [
    "betas = [-0.5,-0.25,-0.1,-0.05,0.05,0.1,0.25,0.5]\n",
    "ss_vec = np.zeros(len(betas))\n",
    "\n",
    "# define CES production function\n",
    "def f_ces(k,alpha, beta):\n",
    "    if beta == 0:\n",
    "        return k**alpha # limit as beta goes to 0\n",
    "    else:\n",
    "        return (alpha*k**beta +(1-alpha))**(1/beta)\n",
    "\n",
    "\n",
    "# find root\n",
    "for i, beta in enumerate(betas): \n",
    "    \n",
    "    # define objective function\n",
    "    obj = lambda k: transition_num(k,f_ces, s,g,n,alpha,delta,beta=beta) - k   \n",
    "\n",
    "    # find root\n",
    "    res = optimize.root_scalar(obj, bracket=[0.01, 10], method='brentq')\n",
    "    assert res.converged\n",
    "\n",
    "    # store result\n",
    "    ss_vec[i] = res.root\n",
    "\n",
    "\n",
    "## Can this be done using SymPy?"
   ]
  },
  {
   "cell_type": "code",
   "execution_count": 18,
   "metadata": {},
   "outputs": [
    {
     "data": {
      "image/png": "[encoded data removed]",
      "text/plain": [
       "<Figure size 640x480 with 1 Axes>"
      ]
     },
     "metadata": {},
     "output_type": "display_data"
    }
   ],
   "source": [
    "from matplotlib import pyplot as plt\n",
    "\n",
    "plt.plot(betas, ss_vec)\n",
    "plt.xlabel(r'$\\beta$')\n",
    "plt.ylabel(r'$\\tilde{k}^*$')\n",
    "plt.grid(True)\n",
    "plt.title(r'Steady state $\\tilde{k}*$');"
   ]
  },
  {
   "cell_type": "markdown",
   "metadata": {
    "tags": []
   },
   "source": [
    "**Answer:** A10.py   "
   ]
  }
 ],
 "metadata": {
  "kernelspec": {
   "display_name": "Python 3 (ipykernel)",
   "language": "python",
   "name": "python3"
  },
  "language_info": {
   "codemirror_mode": {
    "name": "ipython",
    "version": 3
   },
   "file_extension": ".py",
   "mimetype": "text/x-python",
   "name": "python",
   "nbconvert_exporter": "python",
   "pygments_lexer": "ipython3",
   "version": "3.9.16"
  },
  "toc-autonumbering": true
 },
 "nbformat": 4,
 "nbformat_minor": 4
}
