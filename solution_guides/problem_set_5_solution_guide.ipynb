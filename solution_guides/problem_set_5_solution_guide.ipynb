{
 "cells": [
  {
   "cell_type": "markdown",
   "metadata": {},
   "source": [
    "# Problem set 5: Writing your own algorithms"
   ]
  },
  {
   "cell_type": "markdown",
   "metadata": {},
   "source": [
    "This problem set has no tasks, but only problems of increasing complexity. See how far you can get :)"
   ]
  },
  {
   "cell_type": "code",
   "execution_count": 1,
   "metadata": {},
   "outputs": [],
   "source": [
    "import math"
   ]
  },
  {
   "cell_type": "markdown",
   "metadata": {},
   "source": [
    "# Factorial"
   ]
  },
  {
   "cell_type": "markdown",
   "metadata": {},
   "source": [
    "Remember that the factorial of $n$ is\n",
    "\n",
    "$$\n",
    "n\\cdot(n-1)\\cdot(n-2)\\cdot...\\cdot 1\n",
    "$$\n",
    "\n",
    "**Problem:** Correct the following function so that it returns the factorial of n using *functional recursion*."
   ]
  },
  {
   "cell_type": "code",
   "execution_count": 37,
   "metadata": {},
   "outputs": [
    {
     "name": "stdout",
     "output_type": "stream",
     "text": [
      "120\n"
     ]
    }
   ],
   "source": [
    "def factorial(n):\n",
    "    if n == 1:\n",
    "        return 1\n",
    "    else:\n",
    "        return n * factorial(n-1) \n",
    "\n",
    "# or without recursion:\n",
    "def factorial_v(n):\n",
    "    fac = 1\n",
    "    for x in range(1, n+1):\n",
    "        fac *= x\n",
    "    return fac\n",
    "    \n",
    "print(factorial_v(5))"
   ]
  },
  {
   "cell_type": "markdown",
   "metadata": {},
   "source": [
    "**Answer:** see A1.py"
   ]
  },
  {
   "cell_type": "markdown",
   "metadata": {},
   "source": [
    "# Descending bubble sort"
   ]
  },
  {
   "cell_type": "markdown",
   "metadata": {},
   "source": [
    "**Problem:** Sort a list of numbers in-place descending (from high to low).\n",
    "\n",
    "**Inputs:** List of numbers.\n",
    "\n",
    "**Outputs:** None.\n",
    "\n",
    "**Algorithm:** "
   ]
  },
  {
   "cell_type": "code",
   "execution_count": 38,
   "metadata": {},
   "outputs": [
    {
     "name": "stdout",
     "output_type": "stream",
     "text": [
      "sorted [93, 77, 55, 54, 44, 31, 26, 20, 17]\n"
     ]
    }
   ],
   "source": [
    "L = [54, 26, 93, 17, 77, 31, 44, 55, 20] # test list\n",
    "\n",
    "# write your code here (hint: use the bubble_sort() algorithm from the lectures)\n",
    "def bubble_sort(L):\n",
    "\n",
    "    # swapping function\n",
    "    def swap(L, i, j):\n",
    "        _i = L[i]\n",
    "        L[i] = L[j]\n",
    "        L[j] = _i\n",
    "    \n",
    "    N = len(L)\n",
    "\n",
    "    # Outer loop: loop backwards from N-1 to 0\n",
    "    for k in range(N-1, 0, -1): \n",
    "        # Inner loop: loop forwards and swap elements if the next element is larger than the current\n",
    "        for n in range(k):\n",
    "            if L[n] < L[n+1]:\n",
    "                swap(L, n, n+1)\n",
    "\n",
    "\n",
    "bubble_sort(L)\n",
    "print('sorted',L)"
   ]
  },
  {
   "cell_type": "code",
   "execution_count": 39,
   "metadata": {},
   "outputs": [
    {
     "data": {
      "text/plain": [
       "[93, 77, 55, 54, 44, 31, 26, 20, 17]"
      ]
     },
     "execution_count": 39,
     "metadata": {},
     "output_type": "execute_result"
    }
   ],
   "source": [
    "# This can also be done using recursion\n",
    "def bubble_sort_recursive(L):\n",
    "    # swapping function\n",
    "    def swap(L, i, j):\n",
    "        _i = L[i]\n",
    "        L[i] = L[j]\n",
    "        L[j] = _i\n",
    "\n",
    "    N = len(L)\n",
    "\n",
    "    # if the number of elements is smaller than 2, the \"list\" is already sorted\n",
    "    if N <2:\n",
    "        return L\n",
    "    else:\n",
    "        # otherwise, loop through the elements of the list, placing the largest at the end\n",
    "        for n in range(N-1):\n",
    "            if L[n+1] > L[n]:\n",
    "                swap(L, n, n+1)\n",
    "        # perform recursive bubble sort on the first N-1 elements of the list and concatenate with largest\n",
    "        L = bubble_sort_recursive(L[:-1]) + [L[-1]]\n",
    "        return L\n",
    "\n",
    "bubble_sort_recursive(L)"
   ]
  },
  {
   "cell_type": "markdown",
   "metadata": {},
   "source": [
    "**Answer:** see A2.py"
   ]
  },
  {
   "cell_type": "markdown",
   "metadata": {},
   "source": [
    "# Linear search for index"
   ]
  },
  {
   "cell_type": "markdown",
   "metadata": {},
   "source": [
    "**Problem:** Consider a number `x` and a sorted list of numbers `L`. Assume `L[0] <= x < L[-1]`. Find the index `i` such that `L[i] <= x < L[i+1]` using a linear search.\n",
    "\n",
    "**Inputs:** A sorted list of numbers `L` and a number `x`.\n",
    "    \n",
    "**Outputs:** Integer."
   ]
  },
  {
   "cell_type": "code",
   "execution_count": 40,
   "metadata": {},
   "outputs": [
    {
     "name": "stdout",
     "output_type": "stream",
     "text": [
      "3 gives the index 2\n",
      "7 gives the index 2\n",
      "13 gives the index 4\n",
      "18 gives the index 5\n",
      "32 gives the index 7\n"
     ]
    }
   ],
   "source": [
    "L = [0, 1, 2, 8, 13, 17, 19, 32, 42] # test list\n",
    "\n",
    "# write your code here (hint: use the linear_seach() algorithm from the lecture)\n",
    "def linear_search(L,x):\n",
    "\n",
    "    # prepare\n",
    "    N = len(L)\n",
    "    index = None \n",
    "\n",
    "    # main loop: \n",
    "    for n in range(N):\n",
    "        if L[n] > x:\n",
    "            index = n-1 # will evaluate the first time a list element is larger than x, then breaks\n",
    "            break\n",
    "    \n",
    "    return index\n",
    "\n",
    "\n",
    "# test your function\n",
    "for x in [3,7,13,18,32]:\n",
    "    i = linear_search(L,x)\n",
    "    print(f'{x} gives the index {i}')\n",
    "    assert(x >= L[i] and x < L[i+1]),(x,i,L[i])"
   ]
  },
  {
   "cell_type": "markdown",
   "metadata": {},
   "source": [
    "**Answer:** see A3.py"
   ]
  },
  {
   "cell_type": "markdown",
   "metadata": {},
   "source": [
    "# Bisection"
   ]
  },
  {
   "cell_type": "markdown",
   "metadata": {},
   "source": [
    "**Problem:** Find an (apporximate) solution to $f(x) = 0$ in the interval $[a,b]$ where $f(a)f(b) < 0$ (i.e. one is positive and the other is negative). \n",
    "\n",
    "> If $f$ is a *continuous* function then the intermediate value theorem ensures that a solution exists.\n",
    "\n",
    "**Inputs:** Function $f$, float interval $[a,b]$, float tolerance $\\epsilon > 0$.\n",
    "\n",
    "**Outputs:** Float.\n",
    "\n",
    "**Algorithm:** `bisection()`\n",
    "\n",
    "1. Set $a_0 = a$ and $b_0 = b$.\n",
    "\n",
    "2. Compute $f(m_0)$ where $m_0 = (a_0 + b_0)/2$ is the midpoint\n",
    "\n",
    "3. Determine the next sub-interval $[a_1,b_1]$:\n",
    "\n",
    "  i. If $f(a_0)f(m_0) < 0$ then $a_1 = a_0$ and $b_1 = m_0$\n",
    "\n",
    "  ii. If $f(m_0)f(b_0) < 0$ then $a_1 = m_0$ and $b_1 = b_0$\n",
    "\n",
    "4. Repeat step 2 and step 3 until $|f(m_n)| < \\epsilon$"
   ]
  },
  {
   "cell_type": "code",
   "execution_count": 41,
   "metadata": {},
   "outputs": [
    {
     "name": "stdout",
     "output_type": "stream",
     "text": [
      "0.8095238097012043\n"
     ]
    }
   ],
   "source": [
    "f = lambda x: (2.1*x-1.7)*(x-3.3) # test function\n",
    "def bisection(f,a,b,tau):\n",
    "\n",
    "    assert f(a)*f(b) < 0, \"f(a) and f(b) must have different signs\"\n",
    "    \n",
    "    # prep\n",
    "    an = a\n",
    "    bn = b\n",
    "    mn = (an+bn)/2\n",
    "    maxiter = 1000 \n",
    "    i = 0\n",
    "    converged = False\n",
    "\n",
    "    # loop and update interval\n",
    "    while i < maxiter:\n",
    "\n",
    "        if f(an)*f(mn) < 0:\n",
    "            bn = mn\n",
    "        elif f(bn)*f(mn) < 0:\n",
    "            an = mn\n",
    "\n",
    "        if abs(f(mn)) <tau:\n",
    "            converged = True\n",
    "            break\n",
    "\n",
    "        mn = (an+bn)/2\n",
    "        i += 1\n",
    "        \n",
    "    # check convergence and return result\n",
    "    if converged:\n",
    "        return mn\n",
    "    else:\n",
    "        print(\"didn't converge\")\n",
    "    \n",
    "result = bisection(f,0,1,1e-8)\n",
    "print(result)"
   ]
  },
  {
   "cell_type": "code",
   "execution_count": 42,
   "metadata": {},
   "outputs": [
    {
     "name": "stdout",
     "output_type": "stream",
     "text": [
      "0.8095238097012043\n"
     ]
    }
   ],
   "source": [
    "# This can also be done with recursion\n",
    "def bisection_recursive(f,a,b,tau):\n",
    "\n",
    "    assert f(a)*f(b) < 0, \"f(a) and f(b) must have different signs\"\n",
    "\n",
    "    # prep\n",
    "    mn = (a+b)/2\n",
    "    i = 0\n",
    "    converged = False\n",
    "\n",
    "    # check convergence\n",
    "    if abs(f(mn)) < tau:\n",
    "        pass\n",
    "    # if not converged, run bisection recursively on updated interval\n",
    "    elif f(a)*f(mn) < 0:\n",
    "        mn = bisection_recursive(f,a,mn,tau)\n",
    "    elif f(b)*f(mn) < 0:\n",
    "        mn = bisection_recursive(f,mn,b,tau)\n",
    "\n",
    "    return mn\n",
    "\n",
    "result = bisection_recursive(f,0,1,1e-8)\n",
    "print(result)"
   ]
  },
  {
   "cell_type": "markdown",
   "metadata": {},
   "source": [
    "**Answer:** see A4.py"
   ]
  },
  {
   "cell_type": "markdown",
   "metadata": {},
   "source": [
    "# Find prime numbers (hard)"
   ]
  },
  {
   "cell_type": "markdown",
   "metadata": {},
   "source": [
    "**Goal:** Implement a function in Python for the sieve of Eratosthenes.\n",
    "\n",
    "The **sieve of Eratosthenes** is a simple algorithm for finding all prime numbers up to a specified integer. It was created by the ancient Greek mathematician Eratosthenes. The algorithm to find all the prime numbers less than or equal to a given integer $n$.\n",
    "\n",
    "**Algorithm:** `sieve_()`\n",
    "\n",
    "1. Create a list of integers from $2$ to $n$: $2, 3, 4, ..., n$ (all potentially primes)\n",
    "\n",
    "    `primes = list(range(2,n+1))`\n",
    "\n",
    "2. Start with a counter $i$ set to $2$, i.e. the first prime number\n",
    "\n",
    "3. Starting from $i+i$, count up by $i$ and remove those numbers from the list, i.e. $2i$, $3i$, $4i$ etc.\n",
    "\n",
    "    `primes.remove(i)`\n",
    "    \n",
    "4. Find the first number of the list following $i$. This is the next prime number.\n",
    "\n",
    "5. Set $i$ to the number found in the previous step.\n",
    "\n",
    "6. Repeat steps 3-5 until $i$ is greater than $\\sqrt {n}$.\n",
    "7. All the numbers, which are still in the list, are prime numbers."
   ]
  },
  {
   "cell_type": "markdown",
   "metadata": {},
   "source": [
    "**A more detailed explanation:** See this [video](https://www.youtube.com/watch?v=klcIklsWzrY&feature=youtu.be)"
   ]
  },
  {
   "cell_type": "code",
   "execution_count": 43,
   "metadata": {},
   "outputs": [
    {
     "name": "stdout",
     "output_type": "stream",
     "text": [
      "[2, 3, 5, 7, 11, 13, 17, 19, 23, 29, 31, 37, 41, 43, 47, 53, 59, 61, 67, 71, 73, 79, 83, 89, 97]\n"
     ]
    }
   ],
   "source": [
    "def sieve(n):\n",
    "\n",
    "    # edge case\n",
    "    if n == 1:\n",
    "        return []\n",
    "    \n",
    "    # initiate\n",
    "    primes = list(range(2,n+1))  # list of potential primes\n",
    "    iter = 0 # iteration counter\n",
    "    i = primes[iter] # active number in list \n",
    "\n",
    "    while i < math.sqrt(n):\n",
    "        for c in range(2,int(n/i)+1):  # only need to consider number up to root n\n",
    "            if c*i in primes:\n",
    "                primes.remove(c*i) # remove all multiples of i from list\n",
    "        \n",
    "\n",
    "        iter += 1   # increment iteration counter\n",
    "        i = primes[iter] # move to next number\n",
    "\n",
    "    return primes\n",
    "\n",
    "print(sieve(100))"
   ]
  },
  {
   "cell_type": "markdown",
   "metadata": {},
   "source": [
    "**Answer:** see A5.py"
   ]
  },
  {
   "cell_type": "markdown",
   "metadata": {},
   "source": [
    "# More Problems"
   ]
  },
  {
   "cell_type": "markdown",
   "metadata": {},
   "source": [
    "See [Project Euler](https://projecteuler.net/about)."
   ]
  }
 ],
 "metadata": {
  "kernelspec": {
   "display_name": "Python 3 (ipykernel)",
   "language": "python",
   "name": "python3"
  },
  "language_info": {
   "codemirror_mode": {
    "name": "ipython",
    "version": 3
   },
   "file_extension": ".py",
   "mimetype": "text/x-python",
   "name": "python",
   "nbconvert_exporter": "python",
   "pygments_lexer": "ipython3",
   "version": "3.9.16"
  },
  "toc-autonumbering": true
 },
 "nbformat": 4,
 "nbformat_minor": 4
}
